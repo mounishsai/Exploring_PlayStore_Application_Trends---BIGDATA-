{
  "nbformat": 4,
  "nbformat_minor": 0,
  "metadata": {
    "colab": {
      "provenance": []
    },
    "kernelspec": {
      "name": "python3",
      "display_name": "Python 3"
    },
    "language_info": {
      "name": "python"
    }
  },
  "cells": [
    {
      "cell_type": "code",
      "source": [
        "from google.colab import drive\n",
        "drive.mount('/content/drive')\n"
      ],
      "metadata": {
        "colab": {
          "base_uri": "https://localhost:8080/"
        },
        "id": "fEJcs5Z70WYO",
        "outputId": "764993e1-c1de-4e46-efe9-4982490c005c"
      },
      "execution_count": null,
      "outputs": [
        {
          "output_type": "stream",
          "name": "stdout",
          "text": [
            "Mounted at /content/drive\n"
          ]
        }
      ]
    },
    {
      "cell_type": "code",
      "source": [
        " #NaN -#rating, current ver"
      ],
      "metadata": {
        "id": "uhFnnTxj0fLB"
      },
      "execution_count": null,
      "outputs": []
    },
    {
      "cell_type": "code",
      "source": [
        "import pandas as pd\n",
        "import numpy as np\n"
      ],
      "metadata": {
        "id": "jhS5Any3360A"
      },
      "execution_count": null,
      "outputs": []
    },
    {
      "cell_type": "code",
      "source": [
        "file_path = '/content/drive/MyDrive/googleplaystore.csv'\n",
        "df = pd.read_csv(file_path)\n"
      ],
      "metadata": {
        "id": "BQBQW7oM3_cl"
      },
      "execution_count": null,
      "outputs": []
    },
    {
      "cell_type": "code",
      "source": [
        "# replacing NaN values in Rating & Current Ver\n",
        "df['Rating'] = df['Rating'].fillna(0)\n",
        "df['Current Ver'] = df['Current Ver'].fillna('1.0.0')\n",
        "\n"
      ],
      "metadata": {
        "id": "X0vs6AQx4IdH"
      },
      "execution_count": null,
      "outputs": []
    },
    {
      "cell_type": "code",
      "source": [
        "#Removing Duplicate Rows\n",
        "df = df.drop_duplicates()"
      ],
      "metadata": {
        "id": "L9tObsSz4NHr"
      },
      "execution_count": null,
      "outputs": []
    },
    {
      "cell_type": "code",
      "source": [
        "#Removing Special Symbols At the end of Values\n",
        "# Clean the 'Installs' column (remove commas and '+' symbols)\n",
        "df['Installs'] = df['Installs'].replace('[\\+,\\,]', '', regex=True)\n",
        "\n",
        "# Replace non-numeric values like 'Free' with NaN\n",
        "df['Installs'] = pd.to_numeric(df['Installs'], errors='coerce')\n",
        "\n",
        "# Replace NaN values with 0 (direct assignment)\n",
        "df['Installs'] = df['Installs'].fillna(0)\n",
        "\n",
        "# Convert 'Installs' to integer\n",
        "df['Installs'] = df['Installs'].astype(int)\n",
        "\n",
        "\n"
      ],
      "metadata": {
        "id": "PD3ylJo45qI3"
      },
      "execution_count": null,
      "outputs": []
    },
    {
      "cell_type": "code",
      "source": [
        "# Clean the 'Price' column by removing '$' and ',' symbols\n",
        "df['Price'] = df['Price'].replace('[$,]', '', regex=True)\n",
        "\n",
        "# Convert 'Price' to float (some values may be 'Free', so we can coerce them to NaN)\n",
        "df['Price'] = pd.to_numeric(df['Price'], errors='coerce')\n",
        "\n",
        "# Replace NaN values with 0 (direct assignment, without inplace=True)\n",
        "df['Price'] = df['Price'].fillna(0)\n",
        "\n",
        "# Convert to float\n",
        "df['Price'] = df['Price'].astype(float)\n"
      ],
      "metadata": {
        "id": "jsE2lP1o6Xw1"
      },
      "execution_count": null,
      "outputs": []
    },
    {
      "cell_type": "code",
      "source": [
        "# Replace 'Varies with device' in 'Current Ver' with '2.4.1'\n",
        "df['Current Ver'] = df['Current Ver'].replace('Varies with device', '2.4.1')\n",
        "\n",
        "# Replace 'Varies with device' in 'Android Ver' with '4.0.5 and up'\n",
        "df['Android Ver'] = df['Android Ver'].replace('Varies with device', '4.0.5 and up')\n"
      ],
      "metadata": {
        "id": "HZoB5Adv-TXY"
      },
      "execution_count": null,
      "outputs": []
    },
    {
      "cell_type": "code",
      "source": [
        "df['Size'] = df['Size'].replace('Varies with device', np.random.randint(50, 101))"
      ],
      "metadata": {
        "id": "7BvMLisC7dfv"
      },
      "execution_count": null,
      "outputs": []
    },
    {
      "cell_type": "code",
      "source": [
        "df.to_csv('/content/drive/MyDrive/googleplaystore_cleaned.csv', index=False)\n"
      ],
      "metadata": {
        "id": "naGkRWxU88m6"
      },
      "execution_count": null,
      "outputs": []
    },
    {
      "cell_type": "code",
      "source": [],
      "metadata": {
        "id": "niRnfNsB9Lqj"
      },
      "execution_count": null,
      "outputs": []
    }
  ]
}